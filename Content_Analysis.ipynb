{
 "cells": [
  {
   "cell_type": "markdown",
   "id": "b2687450-9d2b-40f7-82b5-7d1a3317678a",
   "metadata": {},
   "source": [
    "# Content Analysis Project"
   ]
  },
  {
   "cell_type": "code",
   "execution_count": 2,
   "id": "8b3799c8-a8ec-46af-a8fe-bfaa96d8d369",
   "metadata": {},
   "outputs": [],
   "source": [
    "import numpy as np\n",
    "import pandas as pd\n",
    "import matplotlib.pyplot as plt\n",
    "import seaborn as sns"
   ]
  },
  {
   "cell_type": "code",
   "execution_count": 23,
   "id": "4b4b973c-0d25-4dd9-98ce-82368f0b22e3",
   "metadata": {},
   "outputs": [
    {
     "data": {
      "text/plain": [
       "0"
      ]
     },
     "execution_count": 23,
     "metadata": {},
     "output_type": "execute_result"
    }
   ],
   "source": [
    "movies = pd.read_csv('amazon_prime_titles.csv')\n",
    "#duplicate_titles_count = \n",
    "movies['title'].duplicated().sum()"
   ]
  },
  {
   "cell_type": "code",
   "execution_count": 5,
   "id": "39d3dbee-1680-43dc-b4e2-b912c0828d76",
   "metadata": {},
   "outputs": [
    {
     "data": {
      "text/plain": [
       "('13+',\n",
       " array(['13+', 'ALL', '18+', 'R', 'TV-Y', 'TV-Y7', 'NR', '16+', 'TV-PG',\n",
       "        '7+', 'TV-14', 'TV-NR', 'TV-G', 'PG-13', 'TV-MA', 'G', 'PG',\n",
       "        'NC-17', 'UNRATED', '16', 'AGES_16_', 'AGES_18_', 'ALL_AGES',\n",
       "        'NOT_RATE'], dtype=object),\n",
       " 0)"
      ]
     },
     "execution_count": 5,
     "metadata": {},
     "output_type": "execute_result"
    }
   ],
   "source": [
    "# Find the mode of the \"rating\" column\n",
    "rating_mode = movies['rating'].mode().iloc[0]\n",
    "\n",
    "# Fill missing values in the \"rating\" column with the mode\n",
    "movies['rating'].fillna(rating_mode, inplace=True)\n",
    "\n",
    "# Check the unique values again to confirm that missing values have been filled\n",
    "updated_rating_unique_values = movies['rating'].unique()\n",
    "updated_missing_values_count = movies['rating'].isnull().sum()\n",
    "\n",
    "rating_mode, updated_rating_unique_values, updated_missing_values_count"
   ]
  },
  {
   "cell_type": "code",
   "execution_count": null,
   "id": "d4d65c79-3931-4bf6-8526-c5fbd46ebc4d",
   "metadata": {},
   "outputs": [],
   "source": [
    "duplicate_titles_count = movies['title'].duplicated().sum()"
   ]
  },
  {
   "cell_type": "code",
   "execution_count": null,
   "id": "c1f50b13-ec0c-4659-a01f-5c6725ec60a5",
   "metadata": {},
   "outputs": [],
   "source": []
  }
 ],
 "metadata": {
  "kernelspec": {
   "display_name": "Python 3 (ipykernel)",
   "language": "python",
   "name": "python3"
  },
  "language_info": {
   "codemirror_mode": {
    "name": "ipython",
    "version": 3
   },
   "file_extension": ".py",
   "mimetype": "text/x-python",
   "name": "python",
   "nbconvert_exporter": "python",
   "pygments_lexer": "ipython3",
   "version": "3.10.9"
  }
 },
 "nbformat": 4,
 "nbformat_minor": 5
}
